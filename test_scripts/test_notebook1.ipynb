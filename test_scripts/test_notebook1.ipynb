{
 "cells": [
  {
   "cell_type": "code",
   "execution_count": 1,
   "id": "6d7bb149",
   "metadata": {},
   "outputs": [
    {
     "ename": "NameError",
     "evalue": "name '__file__' is not defined",
     "output_type": "error",
     "traceback": [
      "\u001b[31m---------------------------------------------------------------------------\u001b[39m",
      "\u001b[31mNameError\u001b[39m                                 Traceback (most recent call last)",
      "\u001b[36mCell\u001b[39m\u001b[36m \u001b[39m\u001b[32mIn[1]\u001b[39m\u001b[32m, line 5\u001b[39m\n\u001b[32m      2\u001b[39m \u001b[38;5;28;01mimport\u001b[39;00m\u001b[38;5;250m \u001b[39m\u001b[34;01mos\u001b[39;00m \n\u001b[32m      3\u001b[39m \u001b[38;5;28;01mimport\u001b[39;00m\u001b[38;5;250m \u001b[39m\u001b[34;01msys\u001b[39;00m\n\u001b[32m----> \u001b[39m\u001b[32m5\u001b[39m sys.path.append(os.path.abspath(os.path.join(os.path.dirname(\u001b[34;43m__file__\u001b[39;49m), \u001b[33m\"\u001b[39m\u001b[33m..\u001b[39m\u001b[33m\"\u001b[39m)))\n\u001b[32m      6\u001b[39m \u001b[38;5;28;01mfrom\u001b[39;00m\u001b[38;5;250m \u001b[39m\u001b[34;01mMinigrid\u001b[39;00m\u001b[34;01m.\u001b[39;00m\u001b[34;01mminigrid\u001b[39;00m\u001b[34;01m.\u001b[39;00m\u001b[34;01menvs\u001b[39;00m\u001b[34;01m.\u001b[39;00m\u001b[34;01mtest_envs\u001b[39;00m\u001b[38;5;250m \u001b[39m\u001b[38;5;28;01mimport\u001b[39;00m TestEnv\n\u001b[32m      7\u001b[39m \u001b[38;5;28;01mfrom\u001b[39;00m\u001b[38;5;250m \u001b[39m\u001b[34;01mMinigrid\u001b[39;00m\u001b[34;01m.\u001b[39;00m\u001b[34;01mminigrid\u001b[39;00m\u001b[34;01m.\u001b[39;00m\u001b[34;01mmanual_control\u001b[39;00m\u001b[38;5;250m \u001b[39m\u001b[38;5;28;01mimport\u001b[39;00m ManualControl\n",
      "\u001b[31mNameError\u001b[39m: name '__file__' is not defined"
     ]
    }
   ],
   "source": [
    "from __future__ import annotations\n",
    "import os \n",
    "import sys\n",
    "\n",
    "sys.path.append(os.path.abspath(os.path.join(os.path.dirname(__file__), \"..\")))\n",
    "from Minigrid.minigrid.envs.test_envs import TestEnv\n",
    "from Minigrid.minigrid.manual_control import ManualControl\n",
    "\n",
    "# Instantiate your custom DoorKeyEnv\n",
    "env = TestEnv( render_mode=\"human\")\n",
    "\n",
    "# Start manual control interface\n",
    "manual = ManualControl(env, seed=42)\n",
    "manual.start()"
   ]
  },
  {
   "cell_type": "code",
   "execution_count": null,
   "id": "dc74dfe8",
   "metadata": {},
   "outputs": [
    {
     "ename": "ModuleNotFoundError",
     "evalue": "No module named 'register_env'",
     "output_type": "error",
     "traceback": [
      "\u001b[31m---------------------------------------------------------------------------\u001b[39m",
      "\u001b[31mModuleNotFoundError\u001b[39m                       Traceback (most recent call last)",
      "\u001b[36mCell\u001b[39m\u001b[36m \u001b[39m\u001b[32mIn[5]\u001b[39m\u001b[32m, line 4\u001b[39m\n\u001b[32m      2\u001b[39m \u001b[38;5;28;01mimport\u001b[39;00m\u001b[38;5;250m \u001b[39m\u001b[34;01mminigrid\u001b[39;00m  \u001b[38;5;66;03m# Ensures the base package is imported\u001b[39;00m\n\u001b[32m      3\u001b[39m \u001b[38;5;28;01mimport\u001b[39;00m\u001b[38;5;250m \u001b[39m\u001b[34;01mminigrid\u001b[39;00m\u001b[34;01m.\u001b[39;00m\u001b[34;01menvs\u001b[39;00m  \u001b[38;5;66;03m# Triggers registration of built-in envs\u001b[39;00m\n\u001b[32m----> \u001b[39m\u001b[32m4\u001b[39m \u001b[38;5;28;01mimport\u001b[39;00m\u001b[38;5;250m \u001b[39m\u001b[34;01mregister_env\u001b[39;00m\n\u001b[32m      5\u001b[39m \u001b[38;5;66;03m# print(sorted(gym.envs.registry.keys()))\u001b[39;00m\n\u001b[32m      6\u001b[39m \u001b[38;5;28mprint\u001b[39m(\u001b[33m\"\u001b[39m\u001b[33mAvailable environments:\u001b[39m\u001b[33m\"\u001b[39m)\n",
      "\u001b[31mModuleNotFoundError\u001b[39m: No module named 'register_env'"
     ]
    }
   ],
   "source": [
    "import gymnasium as gym\n",
    "import minigrid  # Ensures the base package is imported\n",
    "import minigrid.envs  # Triggers registration of built-in envs\n",
    "from register_env \n",
    "# print(sorted(gym.envs.registry.keys()))\n",
    "print(\"Available environments:\")\n",
    "for env_id in gym.envs.registry.keys():\n",
    "    if \"MiniGrid\" in env_id:\n",
    "        print(f\"✅ {env_id}\")\n"
   ]
  },
  {
   "cell_type": "code",
   "execution_count": 12,
   "id": "ada2bf74",
   "metadata": {},
   "outputs": [],
   "source": [
    "import sys\n",
    "import numpy as np\n",
    "# Add the parent directory to sys.path\n",
    "sys.path.append(os.path.abspath(os.path.join(os.getcwd(), '..')))\n",
    "from AUTOMATA.auto_funcs import dfa_T1, DFAMonitor\n",
    "state_list = list(dfa_T1.states)\n",
    "size = len(state_list)\n",
    "sorted_states = sorted(state_list)\n",
    "enumerate_states = enumerate(sorted_states)\n",
    "states_dict = {state: index for index, state in enumerate(sorted(state_list))}\n",
    "states_dict[\"q5\"]\n",
    "states_dict[\"new\"] = 5.0"
   ]
  },
  {
   "cell_type": "code",
   "execution_count": null,
   "id": "24c33283",
   "metadata": {},
   "outputs": [],
   "source": [
    "import torch\n",
    "import numpy \n",
    "x = torch.tensor([3, 2, 5, 0]).detach().cpu().numpy()"
   ]
  },
  {
   "cell_type": "code",
   "execution_count": 3,
   "id": "e7130b6b",
   "metadata": {},
   "outputs": [],
   "source": [
    "import json \n",
    "import numpy as np \n",
    "# File: minigrid/minigrid_env.py\n",
    "from enum import IntEnum\n",
    "\n",
    "class Actions(IntEnum):\n",
    "    left = 0\n",
    "    right = 1\n",
    "    forward = 2\n",
    "    pickup = 3\n",
    "    drop = 4\n",
    "    toggle = 5\n",
    "    done = 6\n",
    "\n",
    "# Load list of dicts from JSON file\n",
    "# file_name = r\"C:\\Users\\nsmith3\\Documents\\GitHub\\temporal_RLHF\\test_results\\path_log_episode_192.json\"\n",
    "file_name = r\"C:\\Users\\nsmith3\\Documents\\GitHub\\temporal_RLHF\\test_results\\path_log_episode_28.json\"\n",
    "with open(file_name, \"r\") as f:\n",
    "    episode_data = json.load(f)\n",
    "\n",
    "def int2action(int_list):\n",
    "        # Turn left, turn right, move forward\n",
    "   action_dict = {\"left\":0, \n",
    "                  \"right\":1, \n",
    "                  \"forward\":2, \n",
    "                  \"pickup\":3, \n",
    "                  \"drop\":4, \n",
    "                  \"toggle\":5,\n",
    "                  \"done\":6}\n",
    "   action_list = [action_dict[action_int] for action_int in int_list]\n",
    "\n",
    "actions_list = [dict[\"action\"] for dict in episode_data]\n",
    "reward_list  = [dict[\"reward\"] for dict in episode_data]\n",
    "event_list   = [dict[\"event\"] for dict in episode_data]\n",
    "transition_indices_list =[ i for i, v in enumerate(reward_list) if v != 0]\n",
    "reward_sum   = np.sum(np.array(reward_list))\n",
    "reward_actions = [actions_list[i] for i in transition_indices_list]\n",
    "reward_action_names = [Actions(a).name for a in reward_actions]\n",
    "reward_events = [event_list[index] for index in transition_indices_list]\n",
    "reward_at_events = [reward_list[index] for index in transition_indices_list]"
   ]
  },
  {
   "cell_type": "code",
   "execution_count": null,
   "id": "9849909c",
   "metadata": {},
   "outputs": [],
   "source": []
  }
 ],
 "metadata": {
  "kernelspec": {
   "display_name": "RLHF",
   "language": "python",
   "name": "python3"
  },
  "language_info": {
   "codemirror_mode": {
    "name": "ipython",
    "version": 3
   },
   "file_extension": ".py",
   "mimetype": "text/x-python",
   "name": "python",
   "nbconvert_exporter": "python",
   "pygments_lexer": "ipython3",
   "version": "3.11.11"
  }
 },
 "nbformat": 4,
 "nbformat_minor": 5
}
